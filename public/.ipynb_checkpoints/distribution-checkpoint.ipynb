{
 "cells": [
  {
   "cell_type": "code",
   "execution_count": 23,
   "metadata": {},
   "outputs": [],
   "source": [
    "import numpy as np\n",
    "import matplotlib.pyplot as plt\n",
    "import matplotlib.image as Img\n",
    "import cv2 \n",
    "from PIL import Image"
   ]
  },
  {
   "cell_type": "markdown",
   "metadata": {},
   "source": [
    "## Load video and save in into frame images"
   ]
  },
  {
   "cell_type": "code",
   "execution_count": 9,
   "metadata": {},
   "outputs": [],
   "source": [
    "def load_frames_from_video(video_path):\n",
    "    print(video_path)\n",
    "    \n",
    "    frames = list()\n",
    "    vidcap = cv2.VideoCapture(video_path)\n",
    "    success, frame = vidcap.read()\n",
    "    while success:\n",
    "        frames.append(frame)\n",
    "        success, frame = vidcap.read()\n",
    "    return np.array(frames)"
   ]
  },
  {
   "cell_type": "code",
   "execution_count": 16,
   "metadata": {},
   "outputs": [
    {
     "name": "stdout",
     "output_type": "stream",
     "text": [
      "./gardvideos/v_ApplyEyeMakeup_g02_c01.avi\n",
      "(240, 320, 3)\n"
     ]
    },
    {
     "ename": "NameError",
     "evalue": "name 'dsf' is not defined",
     "output_type": "error",
     "traceback": [
      "\u001b[0;31m---------------------------------------------------------------------------\u001b[0m",
      "\u001b[0;31mNameError\u001b[0m                                 Traceback (most recent call last)",
      "\u001b[0;32m<ipython-input-16-409d837f6147>\u001b[0m in \u001b[0;36m<module>\u001b[0;34m\u001b[0m\n\u001b[1;32m     15\u001b[0m         \u001b[0mprocessed_img\u001b[0m \u001b[0;34m=\u001b[0m \u001b[0mcv2\u001b[0m\u001b[0;34m.\u001b[0m\u001b[0mcvtColor\u001b[0m\u001b[0;34m(\u001b[0m\u001b[0mprocessed_img\u001b[0m\u001b[0;34m,\u001b[0m \u001b[0mcv2\u001b[0m\u001b[0;34m.\u001b[0m\u001b[0mCOLOR_BGR2RGB\u001b[0m\u001b[0;34m)\u001b[0m\u001b[0;34m\u001b[0m\u001b[0;34m\u001b[0m\u001b[0m\n\u001b[1;32m     16\u001b[0m         \u001b[0mprint\u001b[0m\u001b[0;34m(\u001b[0m\u001b[0mprocessed_img\u001b[0m\u001b[0;34m.\u001b[0m\u001b[0mshape\u001b[0m\u001b[0;34m)\u001b[0m\u001b[0;34m\u001b[0m\u001b[0;34m\u001b[0m\u001b[0m\n\u001b[0;32m---> 17\u001b[0;31m         \u001b[0mdsf\u001b[0m\u001b[0;34m\u001b[0m\u001b[0;34m\u001b[0m\u001b[0m\n\u001b[0m\u001b[1;32m     18\u001b[0m \u001b[0;31m#         Img.imsave(file_path, processed_img)\u001b[0m\u001b[0;34m\u001b[0m\u001b[0;34m\u001b[0m\u001b[0;34m\u001b[0m\u001b[0m\n",
      "\u001b[0;31mNameError\u001b[0m: name 'dsf' is not defined"
     ]
    }
   ],
   "source": [
    "input_dirpath = './gardvideos'\n",
    "video_filenames = ['v_ApplyEyeMakeup_g02_c01.avi', 'v_ApplyLipstick_g01_c01.avi', 'v_JumpingJack_g20_c01.avi', 'v_PlayingFlute_g01_c01.avi', 'v_PlayingTabla_g01_c01.avi']\n",
    "\n",
    "for video_filename in video_filenames:\n",
    "    \n",
    "    filepath = '{}/{}'.format(input_dirpath, video_filename)\n",
    "    arr = load_frames_from_video(filepath)\n",
    "    \n",
    "    for i, img in enumerate(arr):\n",
    "        action = video_filename.split('_')[1]\n",
    "        output_dirpath = './gardvideos/{}'.format(action)\n",
    "        file_path = '%s/frame-%.03d.png' % (output_dirpath, i)\n",
    "        processed_img = np.around(img)\n",
    "        processed_img = processed_img.astype(np.uint8)\n",
    "        processed_img = cv2.cvtColor(processed_img, cv2.COLOR_BGR2RGB)\n",
    "        Img.imsave(file_path, processed_img)"
   ]
  },
  {
   "cell_type": "code",
   "execution_count": 22,
   "metadata": {},
   "outputs": [
    {
     "data": {
      "text/plain": [
       "100"
      ]
     },
     "execution_count": 22,
     "metadata": {},
     "output_type": "execute_result"
    }
   ],
   "source": [
    "import pandas as pd\n",
    "df = pd.read_csv('./gard-csv/v_ApplyEyeMakeup_g02_c01.csv')\n",
    "len(df)"
   ]
  },
  {
   "cell_type": "code",
   "execution_count": 20,
   "metadata": {},
   "outputs": [
    {
     "data": {
      "text/html": [
       "<div>\n",
       "<style scoped>\n",
       "    .dataframe tbody tr th:only-of-type {\n",
       "        vertical-align: middle;\n",
       "    }\n",
       "\n",
       "    .dataframe tbody tr th {\n",
       "        vertical-align: top;\n",
       "    }\n",
       "\n",
       "    .dataframe thead th {\n",
       "        text-align: right;\n",
       "    }\n",
       "</style>\n",
       "<table border=\"1\" class=\"dataframe\">\n",
       "  <thead>\n",
       "    <tr style=\"text-align: right;\">\n",
       "      <th></th>\n",
       "      <th>frame_id</th>\n",
       "      <th>p0_nose_x</th>\n",
       "      <th>p0_nose_y</th>\n",
       "      <th>p0_nose_c</th>\n",
       "      <th>p0_left_eye_x</th>\n",
       "      <th>p0_left_eye_y</th>\n",
       "      <th>p0_left_eye_c</th>\n",
       "      <th>p0_right_eye_x</th>\n",
       "      <th>p0_right_eye_y</th>\n",
       "      <th>p0_right_eye_c</th>\n",
       "      <th>...</th>\n",
       "      <th>p2_left_knee_c</th>\n",
       "      <th>p2_right_knee_x</th>\n",
       "      <th>p2_right_knee_y</th>\n",
       "      <th>p2_right_knee_c</th>\n",
       "      <th>p2_left_ankle_x</th>\n",
       "      <th>p2_left_ankle_y</th>\n",
       "      <th>p2_left_ankle_c</th>\n",
       "      <th>p2_right_ankle_x</th>\n",
       "      <th>p2_right_ankle_y</th>\n",
       "      <th>p2_right_ankle_c</th>\n",
       "    </tr>\n",
       "  </thead>\n",
       "  <tbody>\n",
       "    <tr>\n",
       "      <th>0</th>\n",
       "      <td>0</td>\n",
       "      <td>209.160660</td>\n",
       "      <td>41.611240</td>\n",
       "      <td>1.278191</td>\n",
       "      <td>212.451599</td>\n",
       "      <td>38.614994</td>\n",
       "      <td>1.845689</td>\n",
       "      <td>207.066437</td>\n",
       "      <td>38.315372</td>\n",
       "      <td>1.641813</td>\n",
       "      <td>...</td>\n",
       "      <td>0.018428</td>\n",
       "      <td>285.662048</td>\n",
       "      <td>106.498405</td>\n",
       "      <td>0.010232</td>\n",
       "      <td>290.699005</td>\n",
       "      <td>107.983910</td>\n",
       "      <td>0.008554</td>\n",
       "      <td>285.365784</td>\n",
       "      <td>107.389717</td>\n",
       "      <td>0.012451</td>\n",
       "    </tr>\n",
       "    <tr>\n",
       "      <th>1</th>\n",
       "      <td>1</td>\n",
       "      <td>221.281799</td>\n",
       "      <td>40.801331</td>\n",
       "      <td>0.376293</td>\n",
       "      <td>223.079697</td>\n",
       "      <td>37.804737</td>\n",
       "      <td>0.705092</td>\n",
       "      <td>217.985641</td>\n",
       "      <td>37.804737</td>\n",
       "      <td>0.593391</td>\n",
       "      <td>...</td>\n",
       "      <td>0.017213</td>\n",
       "      <td>150.460281</td>\n",
       "      <td>141.026749</td>\n",
       "      <td>0.013300</td>\n",
       "      <td>167.789551</td>\n",
       "      <td>158.082962</td>\n",
       "      <td>0.013330</td>\n",
       "      <td>155.539536</td>\n",
       "      <td>158.082962</td>\n",
       "      <td>0.011675</td>\n",
       "    </tr>\n",
       "    <tr>\n",
       "      <th>2</th>\n",
       "      <td>2</td>\n",
       "      <td>214.157455</td>\n",
       "      <td>39.471642</td>\n",
       "      <td>0.279122</td>\n",
       "      <td>218.041016</td>\n",
       "      <td>36.477413</td>\n",
       "      <td>0.385939</td>\n",
       "      <td>211.170090</td>\n",
       "      <td>36.177990</td>\n",
       "      <td>0.325428</td>\n",
       "      <td>...</td>\n",
       "      <td>0.019720</td>\n",
       "      <td>149.241928</td>\n",
       "      <td>138.687729</td>\n",
       "      <td>0.033397</td>\n",
       "      <td>164.433044</td>\n",
       "      <td>155.486176</td>\n",
       "      <td>0.037667</td>\n",
       "      <td>149.241928</td>\n",
       "      <td>155.486176</td>\n",
       "      <td>0.017847</td>\n",
       "    </tr>\n",
       "    <tr>\n",
       "      <th>3</th>\n",
       "      <td>3</td>\n",
       "      <td>210.821579</td>\n",
       "      <td>38.644905</td>\n",
       "      <td>1.071832</td>\n",
       "      <td>214.119644</td>\n",
       "      <td>35.647896</td>\n",
       "      <td>1.050124</td>\n",
       "      <td>208.422974</td>\n",
       "      <td>35.348190</td>\n",
       "      <td>0.905814</td>\n",
       "      <td>...</td>\n",
       "      <td>0.016894</td>\n",
       "      <td>150.977936</td>\n",
       "      <td>128.688614</td>\n",
       "      <td>0.009209</td>\n",
       "      <td>161.456741</td>\n",
       "      <td>157.479660</td>\n",
       "      <td>0.058027</td>\n",
       "      <td>161.157349</td>\n",
       "      <td>157.479660</td>\n",
       "      <td>0.051767</td>\n",
       "    </tr>\n",
       "    <tr>\n",
       "      <th>4</th>\n",
       "      <td>4</td>\n",
       "      <td>210.697403</td>\n",
       "      <td>38.548553</td>\n",
       "      <td>1.154903</td>\n",
       "      <td>214.292557</td>\n",
       "      <td>36.151352</td>\n",
       "      <td>0.701351</td>\n",
       "      <td>208.899811</td>\n",
       "      <td>35.552052</td>\n",
       "      <td>0.879208</td>\n",
       "      <td>...</td>\n",
       "      <td>0.062421</td>\n",
       "      <td>177.037628</td>\n",
       "      <td>176.083542</td>\n",
       "      <td>0.059809</td>\n",
       "      <td>178.531998</td>\n",
       "      <td>216.282104</td>\n",
       "      <td>0.141308</td>\n",
       "      <td>197.659882</td>\n",
       "      <td>182.683304</td>\n",
       "      <td>0.058234</td>\n",
       "    </tr>\n",
       "  </tbody>\n",
       "</table>\n",
       "<p>5 rows × 154 columns</p>\n",
       "</div>"
      ],
      "text/plain": [
       "   frame_id   p0_nose_x  p0_nose_y  p0_nose_c  p0_left_eye_x  p0_left_eye_y  \\\n",
       "0         0  209.160660  41.611240   1.278191     212.451599      38.614994   \n",
       "1         1  221.281799  40.801331   0.376293     223.079697      37.804737   \n",
       "2         2  214.157455  39.471642   0.279122     218.041016      36.477413   \n",
       "3         3  210.821579  38.644905   1.071832     214.119644      35.647896   \n",
       "4         4  210.697403  38.548553   1.154903     214.292557      36.151352   \n",
       "\n",
       "   p0_left_eye_c  p0_right_eye_x  p0_right_eye_y  p0_right_eye_c  ...  \\\n",
       "0       1.845689      207.066437       38.315372        1.641813  ...   \n",
       "1       0.705092      217.985641       37.804737        0.593391  ...   \n",
       "2       0.385939      211.170090       36.177990        0.325428  ...   \n",
       "3       1.050124      208.422974       35.348190        0.905814  ...   \n",
       "4       0.701351      208.899811       35.552052        0.879208  ...   \n",
       "\n",
       "   p2_left_knee_c  p2_right_knee_x  p2_right_knee_y  p2_right_knee_c  \\\n",
       "0        0.018428       285.662048       106.498405         0.010232   \n",
       "1        0.017213       150.460281       141.026749         0.013300   \n",
       "2        0.019720       149.241928       138.687729         0.033397   \n",
       "3        0.016894       150.977936       128.688614         0.009209   \n",
       "4        0.062421       177.037628       176.083542         0.059809   \n",
       "\n",
       "   p2_left_ankle_x  p2_left_ankle_y  p2_left_ankle_c  p2_right_ankle_x  \\\n",
       "0       290.699005       107.983910         0.008554        285.365784   \n",
       "1       167.789551       158.082962         0.013330        155.539536   \n",
       "2       164.433044       155.486176         0.037667        149.241928   \n",
       "3       161.456741       157.479660         0.058027        161.157349   \n",
       "4       178.531998       216.282104         0.141308        197.659882   \n",
       "\n",
       "   p2_right_ankle_y  p2_right_ankle_c  \n",
       "0        107.389717          0.012451  \n",
       "1        158.082962          0.011675  \n",
       "2        155.486176          0.017847  \n",
       "3        157.479660          0.051767  \n",
       "4        182.683304          0.058234  \n",
       "\n",
       "[5 rows x 154 columns]"
      ]
     },
     "execution_count": 20,
     "metadata": {},
     "output_type": "execute_result"
    }
   ],
   "source": [
    "df.head()"
   ]
  },
  {
   "cell_type": "code",
   "execution_count": 21,
   "metadata": {},
   "outputs": [
    {
     "data": {
      "text/html": [
       "<div>\n",
       "<style scoped>\n",
       "    .dataframe tbody tr th:only-of-type {\n",
       "        vertical-align: middle;\n",
       "    }\n",
       "\n",
       "    .dataframe tbody tr th {\n",
       "        vertical-align: top;\n",
       "    }\n",
       "\n",
       "    .dataframe thead th {\n",
       "        text-align: right;\n",
       "    }\n",
       "</style>\n",
       "<table border=\"1\" class=\"dataframe\">\n",
       "  <thead>\n",
       "    <tr style=\"text-align: right;\">\n",
       "      <th></th>\n",
       "      <th>frame_id</th>\n",
       "      <th>p0_nose_x</th>\n",
       "      <th>p0_nose_y</th>\n",
       "      <th>p0_nose_c</th>\n",
       "      <th>p0_left_eye_x</th>\n",
       "      <th>p0_left_eye_y</th>\n",
       "      <th>p0_left_eye_c</th>\n",
       "      <th>p0_right_eye_x</th>\n",
       "      <th>p0_right_eye_y</th>\n",
       "      <th>p0_right_eye_c</th>\n",
       "      <th>...</th>\n",
       "      <th>p2_left_knee_c</th>\n",
       "      <th>p2_right_knee_x</th>\n",
       "      <th>p2_right_knee_y</th>\n",
       "      <th>p2_right_knee_c</th>\n",
       "      <th>p2_left_ankle_x</th>\n",
       "      <th>p2_left_ankle_y</th>\n",
       "      <th>p2_left_ankle_c</th>\n",
       "      <th>p2_right_ankle_x</th>\n",
       "      <th>p2_right_ankle_y</th>\n",
       "      <th>p2_right_ankle_c</th>\n",
       "    </tr>\n",
       "  </thead>\n",
       "  <tbody>\n",
       "    <tr>\n",
       "      <th>0</th>\n",
       "      <td>0</td>\n",
       "      <td>209.160660</td>\n",
       "      <td>41.611240</td>\n",
       "      <td>1.278191</td>\n",
       "      <td>212.451599</td>\n",
       "      <td>38.614994</td>\n",
       "      <td>1.845689</td>\n",
       "      <td>207.066437</td>\n",
       "      <td>38.315372</td>\n",
       "      <td>1.641813</td>\n",
       "      <td>...</td>\n",
       "      <td>0.018428</td>\n",
       "      <td>285.662048</td>\n",
       "      <td>106.498405</td>\n",
       "      <td>0.010232</td>\n",
       "      <td>290.699005</td>\n",
       "      <td>107.983910</td>\n",
       "      <td>0.008554</td>\n",
       "      <td>285.365784</td>\n",
       "      <td>107.389717</td>\n",
       "      <td>0.012451</td>\n",
       "    </tr>\n",
       "    <tr>\n",
       "      <th>1</th>\n",
       "      <td>1</td>\n",
       "      <td>221.281799</td>\n",
       "      <td>40.801331</td>\n",
       "      <td>0.376293</td>\n",
       "      <td>223.079697</td>\n",
       "      <td>37.804737</td>\n",
       "      <td>0.705092</td>\n",
       "      <td>217.985641</td>\n",
       "      <td>37.804737</td>\n",
       "      <td>0.593391</td>\n",
       "      <td>...</td>\n",
       "      <td>0.017213</td>\n",
       "      <td>150.460281</td>\n",
       "      <td>141.026749</td>\n",
       "      <td>0.013300</td>\n",
       "      <td>167.789551</td>\n",
       "      <td>158.082962</td>\n",
       "      <td>0.013330</td>\n",
       "      <td>155.539536</td>\n",
       "      <td>158.082962</td>\n",
       "      <td>0.011675</td>\n",
       "    </tr>\n",
       "    <tr>\n",
       "      <th>2</th>\n",
       "      <td>2</td>\n",
       "      <td>214.157455</td>\n",
       "      <td>39.471642</td>\n",
       "      <td>0.279122</td>\n",
       "      <td>218.041016</td>\n",
       "      <td>36.477413</td>\n",
       "      <td>0.385939</td>\n",
       "      <td>211.170090</td>\n",
       "      <td>36.177990</td>\n",
       "      <td>0.325428</td>\n",
       "      <td>...</td>\n",
       "      <td>0.019720</td>\n",
       "      <td>149.241928</td>\n",
       "      <td>138.687729</td>\n",
       "      <td>0.033397</td>\n",
       "      <td>164.433044</td>\n",
       "      <td>155.486176</td>\n",
       "      <td>0.037667</td>\n",
       "      <td>149.241928</td>\n",
       "      <td>155.486176</td>\n",
       "      <td>0.017847</td>\n",
       "    </tr>\n",
       "    <tr>\n",
       "      <th>3</th>\n",
       "      <td>3</td>\n",
       "      <td>210.821579</td>\n",
       "      <td>38.644905</td>\n",
       "      <td>1.071832</td>\n",
       "      <td>214.119644</td>\n",
       "      <td>35.647896</td>\n",
       "      <td>1.050124</td>\n",
       "      <td>208.422974</td>\n",
       "      <td>35.348190</td>\n",
       "      <td>0.905814</td>\n",
       "      <td>...</td>\n",
       "      <td>0.016894</td>\n",
       "      <td>150.977936</td>\n",
       "      <td>128.688614</td>\n",
       "      <td>0.009209</td>\n",
       "      <td>161.456741</td>\n",
       "      <td>157.479660</td>\n",
       "      <td>0.058027</td>\n",
       "      <td>161.157349</td>\n",
       "      <td>157.479660</td>\n",
       "      <td>0.051767</td>\n",
       "    </tr>\n",
       "    <tr>\n",
       "      <th>4</th>\n",
       "      <td>4</td>\n",
       "      <td>210.697403</td>\n",
       "      <td>38.548553</td>\n",
       "      <td>1.154904</td>\n",
       "      <td>214.292557</td>\n",
       "      <td>36.151352</td>\n",
       "      <td>0.701351</td>\n",
       "      <td>208.899811</td>\n",
       "      <td>35.552052</td>\n",
       "      <td>0.879208</td>\n",
       "      <td>...</td>\n",
       "      <td>0.062421</td>\n",
       "      <td>177.037628</td>\n",
       "      <td>176.083542</td>\n",
       "      <td>0.059809</td>\n",
       "      <td>178.531998</td>\n",
       "      <td>216.282104</td>\n",
       "      <td>0.141308</td>\n",
       "      <td>197.659882</td>\n",
       "      <td>182.683304</td>\n",
       "      <td>0.058234</td>\n",
       "    </tr>\n",
       "  </tbody>\n",
       "</table>\n",
       "<p>5 rows × 154 columns</p>\n",
       "</div>"
      ],
      "text/plain": [
       "   frame_id   p0_nose_x  p0_nose_y  p0_nose_c  p0_left_eye_x  p0_left_eye_y  \\\n",
       "0         0  209.160660  41.611240   1.278191     212.451599      38.614994   \n",
       "1         1  221.281799  40.801331   0.376293     223.079697      37.804737   \n",
       "2         2  214.157455  39.471642   0.279122     218.041016      36.477413   \n",
       "3         3  210.821579  38.644905   1.071832     214.119644      35.647896   \n",
       "4         4  210.697403  38.548553   1.154904     214.292557      36.151352   \n",
       "\n",
       "   p0_left_eye_c  p0_right_eye_x  p0_right_eye_y  p0_right_eye_c  ...  \\\n",
       "0       1.845689      207.066437       38.315372        1.641813  ...   \n",
       "1       0.705092      217.985641       37.804737        0.593391  ...   \n",
       "2       0.385939      211.170090       36.177990        0.325428  ...   \n",
       "3       1.050124      208.422974       35.348190        0.905814  ...   \n",
       "4       0.701351      208.899811       35.552052        0.879208  ...   \n",
       "\n",
       "   p2_left_knee_c  p2_right_knee_x  p2_right_knee_y  p2_right_knee_c  \\\n",
       "0        0.018428       285.662048       106.498405         0.010232   \n",
       "1        0.017213       150.460281       141.026749         0.013300   \n",
       "2        0.019720       149.241928       138.687729         0.033397   \n",
       "3        0.016894       150.977936       128.688614         0.009209   \n",
       "4        0.062421       177.037628       176.083542         0.059809   \n",
       "\n",
       "   p2_left_ankle_x  p2_left_ankle_y  p2_left_ankle_c  p2_right_ankle_x  \\\n",
       "0       290.699005       107.983910         0.008554        285.365784   \n",
       "1       167.789551       158.082962         0.013330        155.539536   \n",
       "2       164.433044       155.486176         0.037667        149.241928   \n",
       "3       161.456741       157.479660         0.058027        161.157349   \n",
       "4       178.531998       216.282104         0.141308        197.659882   \n",
       "\n",
       "   p2_right_ankle_y  p2_right_ankle_c  \n",
       "0        107.389717          0.012451  \n",
       "1        158.082962          0.011675  \n",
       "2        155.486176          0.017847  \n",
       "3        157.479660          0.051767  \n",
       "4        182.683304          0.058234  \n",
       "\n",
       "[5 rows x 154 columns]"
      ]
     },
     "execution_count": 21,
     "metadata": {},
     "output_type": "execute_result"
    }
   ],
   "source": [
    "df2 = pd.read_csv('./gard-csv/v_ApplyLipstick_g01_c01.csv')\n",
    "df2.head()"
   ]
  },
  {
   "cell_type": "markdown",
   "metadata": {},
   "source": [
    "## Lunges"
   ]
  },
  {
   "cell_type": "code",
   "execution_count": 13,
   "metadata": {},
   "outputs": [],
   "source": [
    "# Lunges clip\n",
    "dirpath = './lunges'\n",
    "arr = np.load('{}/v_Lunges_g24_c03-100frames-epsilon_16.npz'.format(dirpath))"
   ]
  },
  {
   "cell_type": "code",
   "execution_count": 14,
   "metadata": {},
   "outputs": [],
   "source": [
    "input_types = list(arr.keys())\n",
    "\n",
    "for input_type in input_types:\n",
    "    \n",
    "    dirpath = './lunges/clip-lunges-{}'.format(input_type)\n",
    "    clips = arr[input_type]\n",
    "    \n",
    "    for i, img in enumerate(clips):\n",
    "        file_path = '%s/frame-%.03d.png' % (dirpath, i)\n",
    "        processed_img = np.around(img)\n",
    "        processed_img = processed_img.astype(np.uint8)\n",
    "        processed_img = cv2.cvtColor(processed_img, cv2.COLOR_BGR2RGB)\n",
    "        Img.imsave(file_path, processed_img)"
   ]
  },
  {
   "cell_type": "code",
   "execution_count": 18,
   "metadata": {},
   "outputs": [
    {
     "data": {
      "text/plain": [
       "(100, 240, 320, 3)"
      ]
     },
     "execution_count": 18,
     "metadata": {},
     "output_type": "execute_result"
    }
   ],
   "source": [
    "clips.shape"
   ]
  },
  {
   "cell_type": "code",
   "execution_count": 25,
   "metadata": {},
   "outputs": [],
   "source": [
    "# perturbation - need to think how to visualize minus pixel\n",
    "for i, (benign_img, adv_img) in enumerate(zip(arr['benign'], arr['adversarial'])):\n",
    "    file_path = './lunges/clip-lunges-perturbation/frame-%.03d.png' % (i)\n",
    "    pert_img = np.absolute(np.around(adv_img - benign_img))\n",
    "    cv2.imwrite(file_path, pert_img)"
   ]
  },
  {
   "cell_type": "code",
   "execution_count": 21,
   "metadata": {},
   "outputs": [],
   "source": [
    "# Lunges confidence\n",
    "arr = np.load('./lunges/lunges_g24_e16_heatmaps.npz')"
   ]
  },
  {
   "cell_type": "code",
   "execution_count": 23,
   "metadata": {},
   "outputs": [],
   "source": [
    "for input_type, heatmap_key in zip(['benign', 'adversarial'], ['benign_heatmaps', 'adv_heatmaps']):\n",
    "    heatmaps = arr[heatmap_key]\n",
    "    for i, img in enumerate(heatmaps):\n",
    "        file_path = './lunges/confidence-lunges-%s/frame-%.03d.png' % (input_type, i)\n",
    "        processed_img = np.sum(img, axis=0)\n",
    "        processed_img = np.around(processed_img)\n",
    "        rescaled = (255.0 / processed_img.max() * (processed_img - processed_img.min())).astype(np.uint8)\n",
    "        im = Image.fromarray(rescaled)\n",
    "        im = cv2.cvtColor(im, cv2.COLOR_BGR2RGB)\n",
    "        im.save(file_path)"
   ]
  },
  {
   "cell_type": "markdown",
   "metadata": {},
   "source": [
    "## weightlifting"
   ]
  },
  {
   "cell_type": "code",
   "execution_count": 2,
   "metadata": {},
   "outputs": [],
   "source": [
    "arr = np.load('./clip-000-adv16.npz')['adv'][0]"
   ]
  },
  {
   "cell_type": "code",
   "execution_count": 3,
   "metadata": {},
   "outputs": [],
   "source": [
    "for i, img in enumerate(arr):\n",
    "    file_path = './clip-000-adversarial/frame-%.03d.png' % i\n",
    "    processed_img = np.around(img)\n",
    "    processed_img = processed_img.astype(np.uint8)\n",
    "    processed_img = cv2.cvtColor(processed_img, cv2.COLOR_BGR2RGB)\n",
    "    Img.imsave(file_path, processed_img)"
   ]
  },
  {
   "cell_type": "markdown",
   "metadata": {},
   "source": [
    "## Archery"
   ]
  },
  {
   "cell_type": "code",
   "execution_count": 4,
   "metadata": {},
   "outputs": [],
   "source": [
    "arr = np.load('./clip-archery-adversarial/v_Archery_g25_c01-100frames-epsilon_16.npz')"
   ]
  },
  {
   "cell_type": "code",
   "execution_count": 5,
   "metadata": {},
   "outputs": [],
   "source": [
    "for key in arr:\n",
    "    directory = 'clip-archery-{}'.format(key)\n",
    "    imgs = arr[key]\n",
    "    for i, img in enumerate(imgs):\n",
    "        file_path = './%s/frame-%.03d.png' % (directory, i)\n",
    "        processed_img = np.around(img)\n",
    "        processed_img = processed_img.astype(np.uint8)\n",
    "        processed_img = cv2.cvtColor(processed_img, cv2.COLOR_BGR2RGB)\n",
    "        Img.imsave(file_path, processed_img)"
   ]
  },
  {
   "cell_type": "code",
   "execution_count": 6,
   "metadata": {},
   "outputs": [],
   "source": [
    "# perturbation - need to think how to visualize minus pixel\n",
    "for i, (benign_img, adv_img) in enumerate(zip(arr['benign'], arr['adversarial'])):\n",
    "    file_path = './clip-archery-perturbation/frame-%.03d.png' % (i)\n",
    "    pert_img = np.absolute(np.around(adv_img - benign_img))\n",
    "    cv2.imwrite(file_path, pert_img)"
   ]
  },
  {
   "cell_type": "markdown",
   "metadata": {},
   "source": [
    "## Archery-Confidence"
   ]
  },
  {
   "cell_type": "code",
   "execution_count": 7,
   "metadata": {},
   "outputs": [],
   "source": [
    "arr = np.load('./confidence-benign/new_benign_distribution.npz')['benign_heatmaps']"
   ]
  },
  {
   "cell_type": "code",
   "execution_count": 18,
   "metadata": {},
   "outputs": [],
   "source": [
    "for i, img in enumerate(arr):\n",
    "    file_path = './confidence-benign/frame-%.03d.png' % i\n",
    "    processed_img = np.sum(img, axis=0)\n",
    "    processed_img = np.around(processed_img)\n",
    "    rescaled = (255.0 / processed_img.max() * (processed_img - processed_img.min())).astype(np.uint8)\n",
    "    im = Image.fromarray(rescaled)\n",
    "    im.save(file_path)"
   ]
  },
  {
   "cell_type": "code",
   "execution_count": 23,
   "metadata": {},
   "outputs": [],
   "source": [
    "arr = np.load('./confidence-adversarial/new_adv_distribution.npz')['adv_heatmaps']"
   ]
  },
  {
   "cell_type": "code",
   "execution_count": 24,
   "metadata": {},
   "outputs": [],
   "source": [
    "for i, img in enumerate(arr):\n",
    "    file_path = './confidence-adversarial/frame-%.03d.png' % i\n",
    "    processed_img = np.sum(img, axis=0)\n",
    "    processed_img = np.around(processed_img)\n",
    "    rescaled = (255.0 / processed_img.max() * (processed_img - processed_img.min())).astype(np.uint8)\n",
    "    im = Image.fromarray(rescaled)\n",
    "    im.save(file_path)"
   ]
  },
  {
   "cell_type": "markdown",
   "metadata": {},
   "source": [
    "## Motion"
   ]
  },
  {
   "cell_type": "code",
   "execution_count": 254,
   "metadata": {},
   "outputs": [],
   "source": [
    "imgs = arr[:]"
   ]
  },
  {
   "cell_type": "code",
   "execution_count": 312,
   "metadata": {},
   "outputs": [],
   "source": [
    "# Equal weight\n",
    "weight = [1] * len(imgs)\n",
    "\n",
    "# Different weight\n",
    "m, M = 0.1, 1\n",
    "weight = [(i * (M - m) / (len(imgs) - 1)) + m for i in range(len(imgs))]"
   ]
  },
  {
   "cell_type": "code",
   "execution_count": 313,
   "metadata": {},
   "outputs": [],
   "source": [
    "\n",
    "# print(imgs.shape)\n",
    "# print(np.max(imgs, axis=(2, 3)).shape)\n",
    "# print(np.amax(imgs, axis=(2, 3)).shape)\n",
    "\n",
    "num_imgs, num_joints, row, col = imgs.shape\n",
    "joint_trajectory_img = np.zeros((num_joints, row, col))\n",
    "\n",
    "for joint in range(num_joints):\n",
    "    for n in range(num_imgs):\n",
    "        an_img = imgs[n, joint, :, :]\n",
    "        max_val = np.max(an_img)\n",
    "        max_val_coord = np.argmax(an_img)\n",
    "        r = max_val_coord // col\n",
    "        c = max_val_coord - r * col\n",
    "        joint_trajectory_img[joint, r, c] += max_val * weight[n]"
   ]
  },
  {
   "cell_type": "code",
   "execution_count": 314,
   "metadata": {},
   "outputs": [
    {
     "data": {
      "image/png": "[encoded data removed]",
      "text/plain": [
       "<Figure size 432x288 with 2 Axes>"
      ]
     },
     "metadata": {
      "needs_background": "light"
     },
     "output_type": "display_data"
    },
    {
     "data": {
      "image/png": "[encoded data removed]",
      "text/plain": [
       "<Figure size 432x288 with 2 Axes>"
      ]
     },
     "metadata": {
      "needs_background": "light"
     },
     "output_type": "display_data"
    },
    {
     "data": {
      "image/png": "[encoded data removed]",
      "text/plain": [
       "<Figure size 432x288 with 2 Axes>"
      ]
     },
     "metadata": {
      "needs_background": "light"
     },
     "output_type": "display_data"
    },
    {
     "data": {
      "image/png": "[encoded data removed]",
      "text/plain": [
       "<Figure size 432x288 with 2 Axes>"
      ]
     },
     "metadata": {
      "needs_background": "light"
     },
     "output_type": "display_data"
    },
    {
     "data": {
      "image/png": "[encoded data removed]",
      "text/plain": [
       "<Figure size 432x288 with 2 Axes>"
      ]
     },
     "metadata": {
      "needs_background": "light"
     },
     "output_type": "display_data"
    },
    {
     "data": {
      "image/png": "[encoded data removed]",
      "text/plain": [
       "<Figure size 432x288 with 2 Axes>"
      ]
     },
     "metadata": {
      "needs_background": "light"
     },
     "output_type": "display_data"
    },
    {
     "data": {
      "image/png": "[encoded data removed]",
      "text/plain": [
       "<Figure size 432x288 with 2 Axes>"
      ]
     },
     "metadata": {
      "needs_background": "light"
     },
     "output_type": "display_data"
    },
    {
     "data": {
      "image/png": "[encoded data removed]",
      "text/plain": [
       "<Figure size 432x288 with 2 Axes>"
      ]
     },
     "metadata": {
      "needs_background": "light"
     },
     "output_type": "display_data"
    },
    {
     "data": {
      "image/png": "[encoded data removed]",
      "text/plain": [
       "<Figure size 432x288 with 2 Axes>"
      ]
     },
     "metadata": {
      "needs_background": "light"
     },
     "output_type": "display_data"
    },
    {
     "data": {
      "image/png": "[encoded data removed]",
      "text/plain": [
       "<Figure size 432x288 with 2 Axes>"
      ]
     },
     "metadata": {
      "needs_background": "light"
     },
     "output_type": "display_data"
    },
    {
     "data": {
      "image/png": "[encoded data removed]",
      "text/plain": [
       "<Figure size 432x288 with 2 Axes>"
      ]
     },
     "metadata": {
      "needs_background": "light"
     },
     "output_type": "display_data"
    },
    {
     "data": {
      "image/png": "[encoded data removed]",
      "text/plain": [
       "<Figure size 432x288 with 2 Axes>"
      ]
     },
     "metadata": {
      "needs_background": "light"
     },
     "output_type": "display_data"
    },
    {
     "data": {
      "image/png": "[encoded data removed]",
      "text/plain": [
       "<Figure size 432x288 with 2 Axes>"
      ]
     },
     "metadata": {
      "needs_background": "light"
     },
     "output_type": "display_data"
    },
    {
     "data": {
      "image/png": "[encoded data removed]",
      "text/plain": [
       "<Figure size 432x288 with 2 Axes>"
      ]
     },
     "metadata": {
      "needs_background": "light"
     },
     "output_type": "display_data"
    },
    {
     "data": {
      "image/png": "[encoded data removed]",
      "text/plain": [
       "<Figure size 432x288 with 2 Axes>"
      ]
     },
     "metadata": {
      "needs_background": "light"
     },
     "output_type": "display_data"
    },
    {
     "data": {
      "image/png": "[encoded data removed]",
      "text/plain": [
       "<Figure size 432x288 with 2 Axes>"
      ]
     },
     "metadata": {
      "needs_background": "light"
     },
     "output_type": "display_data"
    },
    {
     "data": {
      "image/png": "[encoded data removed]",
      "text/plain": [
       "<Figure size 432x288 with 2 Axes>"
      ]
     },
     "metadata": {
      "needs_background": "light"
     },
     "output_type": "display_data"
    }
   ],
   "source": [
    "for joint in range(num_joints):\n",
    "    plt.figure()\n",
    "    plt.imshow(joint_trajectory_img[joint])\n",
    "    plt.colorbar()\n",
    "    plt.show()"
   ]
  },
  {
   "cell_type": "code",
   "execution_count": null,
   "metadata": {},
   "outputs": [],
   "source": []
  }
 ],
 "metadata": {
  "kernelspec": {
   "display_name": "Python 3.7",
   "language": "python",
   "name": "dlwp"
  },
  "language_info": {
   "codemirror_mode": {
    "name": "ipython",
    "version": 3
   },
   "file_extension": ".py",
   "mimetype": "text/x-python",
   "name": "python",
   "nbconvert_exporter": "python",
   "pygments_lexer": "ipython3",
   "version": "3.7.5"
  }
 },
 "nbformat": 4,
 "nbformat_minor": 4
}
