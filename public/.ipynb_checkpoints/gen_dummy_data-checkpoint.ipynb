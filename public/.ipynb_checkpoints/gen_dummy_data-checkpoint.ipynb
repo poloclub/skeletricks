{
 "cells": [
  {
   "cell_type": "code",
   "execution_count": 1,
   "metadata": {},
   "outputs": [],
   "source": [
    "import pandas as pd\n",
    "import numpy as np\n",
    "import matplotlib.pyplot as plt\n",
    "import json"
   ]
  },
  {
   "cell_type": "code",
   "execution_count": 2,
   "metadata": {},
   "outputs": [],
   "source": [
    "import math\n",
    "from collections import defaultdict\n",
    "import pandas as pd\n",
    "\n",
    "KEYPOINTS = [\n",
    "    \"nose\",\n",
    "    \"left_eye\",\n",
    "    \"right_eye\",\n",
    "    \"left_ear\",\n",
    "    \"right_ear\",\n",
    "    \"left_shoulder\",\n",
    "    \"right_shoulder\",\n",
    "    \"left_elbow\",\n",
    "    \"right_elbow\",\n",
    "    \"left_wrist\",\n",
    "    \"right_wrist\",\n",
    "    \"left_hip\",\n",
    "    \"right_hip\",\n",
    "    \"left_knee\",\n",
    "    \"right_knee\",\n",
    "    \"left_ankle\",\n",
    "    \"right_ankle\",\n",
    "]\n",
    "\n",
    "def get_p0_keypoints(csv_path):\n",
    "    df = pd.read_csv(csv_path)\n",
    "    keypoints = dict()\n",
    "    for k in KEYPOINTS:\n",
    "        keypoints[k] = list(zip(df[f\"p0_{k}_x\"], df[f\"p0_{k}_y\"]))\n",
    "    return keypoints\n",
    "\n",
    "def get_spatial_displacements(keypoints):\n",
    "    T = len(keypoints[\"nose\"])\n",
    "    displacements = defaultdict(list)\n",
    "    for t in range(1, T):\n",
    "        avg_d = 0.\n",
    "        num_detected = 0\n",
    "        for k in KEYPOINTS:\n",
    "            x0, y0 = keypoints[k][t - 1]\n",
    "            x1, y1 = keypoints[k][t]\n",
    "            \n",
    "            if all(int(v) != -1 for v in [x0, y0, x1, y1]):\n",
    "                d = math.sqrt(\n",
    "                    ((x1 - x0) ** 2)\n",
    "                    + ((y1 - y0) ** 2)\n",
    "                )\n",
    "\n",
    "                avg_d += d\n",
    "                num_detected += 1\n",
    "                displacements[k].append(d)\n",
    "\n",
    "            else:\n",
    "                displacements[k].append(-1)\n",
    "        \n",
    "        avg_d /= num_detected\n",
    "        displacements[\"average\"].append(avg_d)\n",
    "        \n",
    "    return displacements\n",
    "\n",
    "def create_output_dataframe(displacements):\n",
    "    T_ = len(displacements[\"average\"])\n",
    "    \n",
    "    df = pd.DataFrame(displacements)\n",
    "    df.insert(loc=0, column=\"frame_id\", value=range(1, T_ + 1))\n",
    "    \n",
    "    return df\n",
    "\n",
    "def main(INPUT_CSV_PATH):\n",
    "    keypoints = get_p0_keypoints(INPUT_CSV_PATH)\n",
    "    displacements = get_spatial_displacements(keypoints)\n",
    "    output_df = create_output_dataframe(displacements)\n",
    "    return output_df\n",
    "#     output_df.to_csv(OUTPUT_CSV_PATH, index=False)"
   ]
  },
  {
   "cell_type": "code",
   "execution_count": 3,
   "metadata": {},
   "outputs": [],
   "source": [
    "filepaths = ['lunges/benign-skeleton.csv', 'lunges/adv-skeleton.csv']\n",
    "dfs = []\n",
    "for filepath in filepaths:\n",
    "    INPUT_CSV_PATH = filepath\n",
    "    OUTPUT_CSV_PATH = \"/localscratch/ndas30/workspace/gard/data/benign-displacement.csv\"\n",
    "    df_out = main(INPUT_CSV_PATH)\n",
    "    dfs.append(df_out)"
   ]
  },
  {
   "cell_type": "code",
   "execution_count": 5,
   "metadata": {},
   "outputs": [],
   "source": [
    "df = pd.DataFrame()\n",
    "df['benign_avg_delta'] = dfs[0]['average']\n",
    "df['attacked_avg_delta'] = dfs[1]['average']\n",
    "d = df.to_dict('records')\n",
    "d = [{'benign_avg_delta': 0, 'attacked_avg_delta': 0}] + d\n",
    "with open('./data/quantitative_values.json', 'w') as f:\n",
    "    json.dump(d, f)"
   ]
  },
  {
   "cell_type": "code",
   "execution_count": 6,
   "metadata": {},
   "outputs": [
    {
     "data": {
      "text/plain": [
       "[{'benign_avg_delta': 0, 'attacked_avg_delta': 0},\n",
       " {'benign_avg_delta': 2.220235091682394,\n",
       "  'attacked_avg_delta': 8.66551127417451},\n",
       " {'benign_avg_delta': 1.613294296240191,\n",
       "  'attacked_avg_delta': 4.10576455634053},\n",
       " {'benign_avg_delta': 1.5717053534163627,\n",
       "  'attacked_avg_delta': 5.4381017048479885},\n",
       " {'benign_avg_delta': 1.0214648104454092,\n",
       "  'attacked_avg_delta': 4.2855661673281364},\n",
       " {'benign_avg_delta': 0.6032467236123732,\n",
       "  'attacked_avg_delta': 2.731241926897309},\n",
       " {'benign_avg_delta': 1.2504825492338985,\n",
       "  'attacked_avg_delta': 5.847199201986059},\n",
       " {'benign_avg_delta': 0.9418013537469768,\n",
       "  'attacked_avg_delta': 13.156973271310752},\n",
       " {'benign_avg_delta': 1.0369207969645355,\n",
       "  'attacked_avg_delta': 8.012090801426865},\n",
       " {'benign_avg_delta': 1.077434311298303,\n",
       "  'attacked_avg_delta': 1.798106913796182},\n",
       " {'benign_avg_delta': 0.9640873213094022,\n",
       "  'attacked_avg_delta': 3.607136113782864},\n",
       " {'benign_avg_delta': 1.599953129500673,\n",
       "  'attacked_avg_delta': 2.5256702843949888},\n",
       " {'benign_avg_delta': 0.995761726343759,\n",
       "  'attacked_avg_delta': 2.5231760853497986},\n",
       " {'benign_avg_delta': 0.8669644936214594,\n",
       "  'attacked_avg_delta': 2.1309301445657485},\n",
       " {'benign_avg_delta': 0.9589294288045865,\n",
       "  'attacked_avg_delta': 3.388584082309766},\n",
       " {'benign_avg_delta': 0.8194113427462355,\n",
       "  'attacked_avg_delta': 3.29367570228115},\n",
       " {'benign_avg_delta': 1.5663553488177362,\n",
       "  'attacked_avg_delta': 7.119549630583805},\n",
       " {'benign_avg_delta': 1.2648637481132656,\n",
       "  'attacked_avg_delta': 10.477142340121588},\n",
       " {'benign_avg_delta': 1.3402378276107765,\n",
       "  'attacked_avg_delta': 6.57339093541481},\n",
       " {'benign_avg_delta': 1.4858180871966375,\n",
       "  'attacked_avg_delta': 6.265720728216331},\n",
       " {'benign_avg_delta': 1.5474881146381143,\n",
       "  'attacked_avg_delta': 9.900489849737639},\n",
       " {'benign_avg_delta': 1.2738077237041174,\n",
       "  'attacked_avg_delta': 7.349115663634255},\n",
       " {'benign_avg_delta': 1.2416903888190887,\n",
       "  'attacked_avg_delta': 7.028378370254829},\n",
       " {'benign_avg_delta': 1.7314942205502672,\n",
       "  'attacked_avg_delta': 10.898268030692009},\n",
       " {'benign_avg_delta': 1.5017988374774394,\n",
       "  'attacked_avg_delta': 7.303814797431057},\n",
       " {'benign_avg_delta': 2.02351033155074,\n",
       "  'attacked_avg_delta': 7.167553053413271},\n",
       " {'benign_avg_delta': 2.6674191637866826,\n",
       "  'attacked_avg_delta': 11.315658620429659},\n",
       " {'benign_avg_delta': 1.968104287850303,\n",
       "  'attacked_avg_delta': 3.62356385255133},\n",
       " {'benign_avg_delta': 1.6016392900668104,\n",
       "  'attacked_avg_delta': 3.3116888554857415},\n",
       " {'benign_avg_delta': 1.9945034350450521,\n",
       "  'attacked_avg_delta': 4.428547090037937},\n",
       " {'benign_avg_delta': 3.2815133130390537,\n",
       "  'attacked_avg_delta': 7.088883594397294},\n",
       " {'benign_avg_delta': 3.623534306403191,\n",
       "  'attacked_avg_delta': 8.509432939122638},\n",
       " {'benign_avg_delta': 2.2986464748401962,\n",
       "  'attacked_avg_delta': 7.626130685202768},\n",
       " {'benign_avg_delta': 2.94968466265174,\n",
       "  'attacked_avg_delta': 7.164352583374919},\n",
       " {'benign_avg_delta': 3.7392104742726033,\n",
       "  'attacked_avg_delta': 3.0016526582788856},\n",
       " {'benign_avg_delta': 3.582164746810907,\n",
       "  'attacked_avg_delta': 3.440973993465321},\n",
       " {'benign_avg_delta': 4.628525760664233,\n",
       "  'attacked_avg_delta': 7.5909588695678964},\n",
       " {'benign_avg_delta': 2.657717689906622,\n",
       "  'attacked_avg_delta': 13.738785303782507},\n",
       " {'benign_avg_delta': 2.1376180373620053,\n",
       "  'attacked_avg_delta': 10.960078104086893},\n",
       " {'benign_avg_delta': 2.2985247875082666,\n",
       "  'attacked_avg_delta': 6.283190854239116},\n",
       " {'benign_avg_delta': 2.081284400679248,\n",
       "  'attacked_avg_delta': 7.250036123676732},\n",
       " {'benign_avg_delta': 4.92374418411166,\n",
       "  'attacked_avg_delta': 10.955442436483416},\n",
       " {'benign_avg_delta': 1.9258482742922078,\n",
       "  'attacked_avg_delta': 3.466558811969317},\n",
       " {'benign_avg_delta': 2.080304690770278,\n",
       "  'attacked_avg_delta': 12.75780056153716},\n",
       " {'benign_avg_delta': 1.8742583558282284,\n",
       "  'attacked_avg_delta': 11.301905718003407},\n",
       " {'benign_avg_delta': 2.0541938699022713,\n",
       "  'attacked_avg_delta': 56.343608458548175},\n",
       " {'benign_avg_delta': 2.946401736332415,\n",
       "  'attacked_avg_delta': 63.42148977027802},\n",
       " {'benign_avg_delta': 5.116542094093883,\n",
       "  'attacked_avg_delta': 10.01760806051406},\n",
       " {'benign_avg_delta': 5.633678758965724,\n",
       "  'attacked_avg_delta': 11.805259284525068},\n",
       " {'benign_avg_delta': 6.60100021951939,\n",
       "  'attacked_avg_delta': 11.691845361724036},\n",
       " {'benign_avg_delta': 2.5750535752912387,\n",
       "  'attacked_avg_delta': 9.162210869508082},\n",
       " {'benign_avg_delta': 3.062440100382396,\n",
       "  'attacked_avg_delta': 14.834680941659641},\n",
       " {'benign_avg_delta': 1.0680422672475252,\n",
       "  'attacked_avg_delta': 6.356178685776172},\n",
       " {'benign_avg_delta': 1.0851041708713518,\n",
       "  'attacked_avg_delta': 8.25142508845457},\n",
       " {'benign_avg_delta': 1.316372172580735,\n",
       "  'attacked_avg_delta': 4.737970430646376},\n",
       " {'benign_avg_delta': 1.4582415051232849,\n",
       "  'attacked_avg_delta': 9.505411627978074},\n",
       " {'benign_avg_delta': 1.1159109013080566,\n",
       "  'attacked_avg_delta': 14.159499463744172},\n",
       " {'benign_avg_delta': 0.8364923094632304,\n",
       "  'attacked_avg_delta': 8.062097701464275},\n",
       " {'benign_avg_delta': 1.2555335350218702,\n",
       "  'attacked_avg_delta': 13.841338380895555},\n",
       " {'benign_avg_delta': 1.6328293563713094,\n",
       "  'attacked_avg_delta': 18.810591083024036},\n",
       " {'benign_avg_delta': 1.7755758739807892,\n",
       "  'attacked_avg_delta': 16.13911983318147},\n",
       " {'benign_avg_delta': 4.50716050401234,\n",
       "  'attacked_avg_delta': 9.048646420301111},\n",
       " {'benign_avg_delta': 2.2135191646008705,\n",
       "  'attacked_avg_delta': 8.35780905406248},\n",
       " {'benign_avg_delta': 2.7861016558772556,\n",
       "  'attacked_avg_delta': 10.51291643770184},\n",
       " {'benign_avg_delta': 1.8121851179289203,\n",
       "  'attacked_avg_delta': 9.105783225568276},\n",
       " {'benign_avg_delta': 2.4511072391566473,\n",
       "  'attacked_avg_delta': 11.835885878413151},\n",
       " {'benign_avg_delta': 3.9365664895326726,\n",
       "  'attacked_avg_delta': 15.220491845399074},\n",
       " {'benign_avg_delta': 2.460276122483436,\n",
       "  'attacked_avg_delta': 7.744770956685367},\n",
       " {'benign_avg_delta': 1.8009929797325197,\n",
       "  'attacked_avg_delta': 6.996583743213102},\n",
       " {'benign_avg_delta': 1.9152654763432526,\n",
       "  'attacked_avg_delta': 11.194529790394167},\n",
       " {'benign_avg_delta': 2.422224657708725,\n",
       "  'attacked_avg_delta': 10.777444970764797},\n",
       " {'benign_avg_delta': 5.534015567564559,\n",
       "  'attacked_avg_delta': 11.349498259105083},\n",
       " {'benign_avg_delta': 3.3347883582818585,\n",
       "  'attacked_avg_delta': 8.104537966102672},\n",
       " {'benign_avg_delta': 4.076727818621849,\n",
       "  'attacked_avg_delta': 6.637029299454952},\n",
       " {'benign_avg_delta': 2.405547264330208,\n",
       "  'attacked_avg_delta': 8.120141841041184},\n",
       " {'benign_avg_delta': 2.242553689914785,\n",
       "  'attacked_avg_delta': 6.776988425683433},\n",
       " {'benign_avg_delta': 6.009905054375558,\n",
       "  'attacked_avg_delta': 5.557458193825597},\n",
       " {'benign_avg_delta': 4.629452937636776,\n",
       "  'attacked_avg_delta': 10.189969151695838},\n",
       " {'benign_avg_delta': 2.7695582559351206,\n",
       "  'attacked_avg_delta': 3.687580616126065},\n",
       " {'benign_avg_delta': 3.2299980829122883,\n",
       "  'attacked_avg_delta': 6.587847647947309},\n",
       " {'benign_avg_delta': 2.8607621036665454,\n",
       "  'attacked_avg_delta': 8.055234877231445},\n",
       " {'benign_avg_delta': 4.5344760146465175,\n",
       "  'attacked_avg_delta': 4.45577581015731},\n",
       " {'benign_avg_delta': 2.4155194233410056,\n",
       "  'attacked_avg_delta': 2.531270315374848},\n",
       " {'benign_avg_delta': 2.706785974666687,\n",
       "  'attacked_avg_delta': 15.331068121794408},\n",
       " {'benign_avg_delta': 2.0639953433947302,\n",
       "  'attacked_avg_delta': 9.023704871586082},\n",
       " {'benign_avg_delta': 1.788786314422774,\n",
       "  'attacked_avg_delta': 5.305733302383243},\n",
       " {'benign_avg_delta': 2.475032220146788,\n",
       "  'attacked_avg_delta': 10.461545439779162},\n",
       " {'benign_avg_delta': 1.1150720533981557,\n",
       "  'attacked_avg_delta': 10.953809676067419},\n",
       " {'benign_avg_delta': 1.4512012096526872,\n",
       "  'attacked_avg_delta': 11.61482669517342},\n",
       " {'benign_avg_delta': 1.1630684802086642,\n",
       "  'attacked_avg_delta': 10.370298539318934},\n",
       " {'benign_avg_delta': 1.4646979200845875,\n",
       "  'attacked_avg_delta': 9.3041270620254},\n",
       " {'benign_avg_delta': 1.7059028869571207,\n",
       "  'attacked_avg_delta': 14.694938940384393},\n",
       " {'benign_avg_delta': 1.7165597345379198,\n",
       "  'attacked_avg_delta': 4.3271053972986335},\n",
       " {'benign_avg_delta': 1.1674826844282744,\n",
       "  'attacked_avg_delta': 5.956121238281976},\n",
       " {'benign_avg_delta': 1.1073961026552492,\n",
       "  'attacked_avg_delta': 4.9753060023933555},\n",
       " {'benign_avg_delta': 1.6406960959959331,\n",
       "  'attacked_avg_delta': 4.266870678855135},\n",
       " {'benign_avg_delta': 1.9169661199373655,\n",
       "  'attacked_avg_delta': 3.279525646719219},\n",
       " {'benign_avg_delta': 0.7092696305004138,\n",
       "  'attacked_avg_delta': 7.834978502025721},\n",
       " {'benign_avg_delta': 0.843388918029142,\n",
       "  'attacked_avg_delta': 8.216867440347533},\n",
       " {'benign_avg_delta': 1.0594063541692131,\n",
       "  'attacked_avg_delta': 4.103914712074862}]"
      ]
     },
     "execution_count": 6,
     "metadata": {},
     "output_type": "execute_result"
    }
   ],
   "source": [
    "d"
   ]
  },
  {
   "cell_type": "code",
   "execution_count": 14,
   "metadata": {},
   "outputs": [
    {
     "name": "stdout",
     "output_type": "stream",
     "text": [
      "0.6032467236123732 6.60100021951939\n",
      "1.798106913796182 63.42148977027802\n"
     ]
    }
   ],
   "source": [
    "print(min(df['benign_avg_delta']), max(df['benign_avg_delta']))\n",
    "print(min(df['attacked_avg_delta']), max(df['attacked_avg_delta']))"
   ]
  },
  {
   "cell_type": "code",
   "execution_count": 58,
   "metadata": {},
   "outputs": [],
   "source": [
    "N = 101\n",
    "x = []\n",
    "benign_softmax_weightlifting = []\n",
    "attacked_softmax_weightlifting = []\n",
    "\n",
    "for i in range(N):\n",
    "    p = np.min([1, 0.8 + (np.random.random() - 0.5) * 0.3])\n",
    "    p2 = np.min([1, 0.8 + (np.random.random() - 0.5) * 0.3])\n",
    "    if i > 60:\n",
    "        p2 = np.min([1, np.max([0, p2 - 0.3 - (np.random.random() - 0.5) * 0.2])])\n",
    "    benign_softmax_weightlifting.append(p)\n",
    "    attacked_softmax_weightlifting.append(p2)\n",
    "    x.append(i)"
   ]
  },
  {
   "cell_type": "code",
   "execution_count": 59,
   "metadata": {},
   "outputs": [
    {
     "data": {
      "image/png": "[encoded data removed]",
      "text/plain": [
       "<Figure size 432x288 with 1 Axes>"
      ]
     },
     "metadata": {
      "needs_background": "light"
     },
     "output_type": "display_data"
    }
   ],
   "source": [
    "plt.plot(x, benign_softmax_weightlifting)\n",
    "plt.plot(x, attacked_softmax_weightlifting)\n",
    "plt.show()"
   ]
  },
  {
   "cell_type": "code",
   "execution_count": 60,
   "metadata": {},
   "outputs": [],
   "source": [
    "df = pd.DataFrame()\n",
    "df['benign_softmax_weightlifting'] = benign_softmax_weightlifting\n",
    "df['attacked_softmax_weightlifting'] = attacked_softmax_weightlifting"
   ]
  },
  {
   "cell_type": "code",
   "execution_count": 61,
   "metadata": {},
   "outputs": [],
   "source": [
    "df2 = pd.read_csv('./lunges/lunges_sum_diff.csv')\n",
    "df['confidence_sum_diff'] = df2['y']"
   ]
  },
  {
   "cell_type": "code",
   "execution_count": 56,
   "metadata": {},
   "outputs": [],
   "source": []
  },
  {
   "cell_type": "code",
   "execution_count": 62,
   "metadata": {},
   "outputs": [],
   "source": [
    "df.to_csv('data/quantitative_values.csv', index=False)\n",
    "d = df.to_dict('records')\n",
    "with open('./data/quantitative_values.json', 'w') as f:\n",
    "    json.dump(d, f)"
   ]
  },
  {
   "cell_type": "code",
   "execution_count": 13,
   "metadata": {},
   "outputs": [
    {
     "data": {
      "text/plain": [
       "[<matplotlib.lines.Line2D at 0x7f9198330be0>]"
      ]
     },
     "execution_count": 13,
     "metadata": {},
     "output_type": "execute_result"
    },
    {
     "data": {
      "image/png": "[encoded data removed]",
      "text/plain": [
       "<Figure size 432x288 with 1 Axes>"
      ]
     },
     "metadata": {
      "needs_background": "light"
     },
     "output_type": "display_data"
    }
   ],
   "source": [
    "plt.plot(df2['x'], df2['y'])"
   ]
  },
  {
   "cell_type": "code",
   "execution_count": 17,
   "metadata": {},
   "outputs": [
    {
     "data": {
      "text/plain": [
       "70    1839.621094\n",
       "71    1748.925293\n",
       "72    1394.838257\n",
       "73    1564.775635\n",
       "74    1691.444946\n",
       "75    1438.334961\n",
       "76    1631.589355\n",
       "77    1682.213013\n",
       "78    1470.697632\n",
       "79    1635.102051\n",
       "Name: y, dtype: float64"
      ]
     },
     "execution_count": 17,
     "metadata": {},
     "output_type": "execute_result"
    }
   ],
   "source": [
    "df2['y'][70:80]"
   ]
  },
  {
   "cell_type": "code",
   "execution_count": 18,
   "metadata": {},
   "outputs": [],
   "source": [
    "df3 = pd.read_csv('./lunges/adv-skeleton.csv')\n",
    "df4 = pd.read_csv('./lunges/benign-skeleton.csv')"
   ]
  },
  {
   "cell_type": "code",
   "execution_count": 32,
   "metadata": {},
   "outputs": [],
   "source": [
    "keys = []\n",
    "for k in df3.keys():\n",
    "    if '_c' in k:\n",
    "        keys.append(k)"
   ]
  },
  {
   "cell_type": "code",
   "execution_count": 38,
   "metadata": {},
   "outputs": [],
   "source": [
    "M, m = 0, 100000\n",
    "for k in keys:\n",
    "    M = np.max([M, max(df3[k]), max(df4[k])])\n",
    "    m = np.min([M, min(df3[k]), min(df4[k])])"
   ]
  },
  {
   "cell_type": "code",
   "execution_count": 40,
   "metadata": {},
   "outputs": [
    {
     "data": {
      "text/plain": [
       "2.049232482910156"
      ]
     },
     "execution_count": 40,
     "metadata": {},
     "output_type": "execute_result"
    }
   ],
   "source": [
    "M"
   ]
  },
  {
   "cell_type": "code",
   "execution_count": 39,
   "metadata": {},
   "outputs": [
    {
     "data": {
      "text/plain": [
       "-1.0"
      ]
     },
     "execution_count": 39,
     "metadata": {},
     "output_type": "execute_result"
    }
   ],
   "source": [
    "m"
   ]
  },
  {
   "cell_type": "code",
   "execution_count": null,
   "metadata": {},
   "outputs": [],
   "source": []
  }
 ],
 "metadata": {
  "kernelspec": {
   "display_name": "Python 3",
   "language": "python",
   "name": "python3"
  },
  "language_info": {
   "codemirror_mode": {
    "name": "ipython",
    "version": 3
   },
   "file_extension": ".py",
   "mimetype": "text/x-python",
   "name": "python",
   "nbconvert_exporter": "python",
   "pygments_lexer": "ipython3",
   "version": "3.7.3"
  }
 },
 "nbformat": 4,
 "nbformat_minor": 4
}
