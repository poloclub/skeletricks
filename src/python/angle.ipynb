{
 "cells": [
  {
   "cell_type": "markdown",
   "metadata": {},
   "source": [
    "## Import packages"
   ]
  },
  {
   "cell_type": "code",
   "execution_count": 1,
   "metadata": {},
   "outputs": [],
   "source": [
    "import pandas as pd\n",
    "import numpy as np\n",
    "import matplotlib.pyplot as plt\n",
    "import os"
   ]
  },
  {
   "cell_type": "markdown",
   "metadata": {},
   "source": [
    "## Load joint location"
   ]
  },
  {
   "cell_type": "code",
   "execution_count": 2,
   "metadata": {},
   "outputs": [],
   "source": [
    "def load_joint_location(file_path):\n",
    "    df = pd.read_csv(file_path)\n",
    "    columns = []\n",
    "    columns.append('frame_id')\n",
    "    for e in list(df.columns):\n",
    "        if 'p0' in e:\n",
    "            columns.append(e)\n",
    "    f_df = df.filter(items = columns)\n",
    "    return f_df"
   ]
  },
  {
   "cell_type": "code",
   "execution_count": 3,
   "metadata": {},
   "outputs": [],
   "source": [
    "vertex_to_joints = {\n",
    "    'left_shoulder': ['left_elbow', 'left_shoulder', 'left_hip'],\n",
    "    'right_shoulder': ['right_elbow', 'right_shoulder', 'right_hip'],\n",
    "    'left_elbow': ['left_wrist', 'left_elbow', 'left_shoulder'],\n",
    "    'right_elbow': ['right_wrist', 'right_elbow', 'right_shoulder'],\n",
    "    'left_hip': ['left_knee', 'left_hip', 'right_hip'],\n",
    "    'right_hip': ['right_knee', 'right_hip', 'left_hip'],\n",
    "    'left_knee': ['left_ankle', 'left_knee', 'left_hip'],\n",
    "    'right_knee': ['right_ankle', 'right_knee', 'right_hip'],\n",
    "}"
   ]
  },
  {
   "cell_type": "code",
   "execution_count": 4,
   "metadata": {},
   "outputs": [],
   "source": [
    "def get_vertex_joint_location(vertex, vertex_to_joints, joint_location):\n",
    "    joints = vertex_to_joints[vertex]\n",
    "    columns = []\n",
    "    for joint in joints:\n",
    "        columns.append('p0_{}_x'.format(joint))\n",
    "        columns.append('p0_{}_y'.format(joint))\n",
    "    f_df = joint_location.filter(items=columns)\n",
    "    return f_df"
   ]
  },
  {
   "cell_type": "code",
   "execution_count": 5,
   "metadata": {},
   "outputs": [],
   "source": [
    "def measure_angle(XY):\n",
    "    \n",
    "    x1, y1, x2, y2, x3, y3 = XY\n",
    "    \n",
    "    v1 = np.array([x1 - x2, y1 - y2])\n",
    "    v2 = np.array([x3 - x2, y3 - y2])\n",
    "    cos = np.dot(v1, v2) / (np.linalg.norm(v1) * np.linalg.norm(v2))\n",
    "    theta = np.arccos(cos)\n",
    "    theta = theta * 180 / np.pi\n",
    "    \n",
    "    return theta"
   ]
  },
  {
   "cell_type": "code",
   "execution_count": 6,
   "metadata": {},
   "outputs": [],
   "source": [
    "def drop_prefix(self, prefix):\n",
    "    self.columns = self.columns.str.lstrip(prefix)\n",
    "    return self\n",
    "\n",
    "pd.core.frame.DataFrame.drop_prefix = drop_prefix"
   ]
  },
  {
   "cell_type": "code",
   "execution_count": 7,
   "metadata": {
    "tags": []
   },
   "outputs": [],
   "source": [
    "columns = ['left_shoulder',\n",
    "    'right_shoulder',\n",
    "    'left_elbow',\n",
    "    'right_elbow',\n",
    "    'left_hip',\n",
    "    'right_hip',\n",
    "    'left_knee',\n",
    "    'right_knee']\n"
   ]
  },
  {
   "cell_type": "code",
   "execution_count": 8,
   "metadata": {},
   "outputs": [],
   "source": [
    "def create_distribution(benign_joint_location):\n",
    "    hist_array = []\n",
    "    columninfo = []\n",
    "    for col in benign_joint_location.columns:\n",
    "        if col != 'frame_id':\n",
    "            hist, bin_edges = np.histogram(benign_joint_location[col], bins = 10)\n",
    "            min = np.min(benign_joint_location[col])\n",
    "            max = np.max(benign_joint_location[col])\n",
    "            step = bin_edges[1] - bin_edges[0]\n",
    "            columninfo.append((min, max, step))\n",
    "            hist_array.append(hist)\n",
    "\n",
    "    output_df = pd.DataFrame(columns, columns = ['Joints'])\n",
    "    hist_array = np.array(hist_array).T\n",
    "    columninfo = np.array(columninfo).T\n",
    "    \n",
    "    for i in range(10):\n",
    "        output_df[i] = hist_array[i]\n",
    "\n",
    "    output_df['Min'] = columninfo[0]\n",
    "    output_df['Max'] = columninfo[1]\n",
    "    output_df['Step'] = columninfo[2]\n",
    "\n",
    "    return output_df    "
   ]
  },
  {
   "cell_type": "code",
   "execution_count": 10,
   "metadata": {
    "tags": []
   },
   "outputs": [],
   "source": [
    "folder = '/nethome/abhagavatula8/skeleton-vis/public/pgd_interpolated_data'\n",
    "for dirname, dirs, files in os.walk(folder):\n",
    "    for file in files:\n",
    "        if 'keypoints-' in file:\n",
    "            input_file_path = os.path.join(dirname, file)\n",
    "            benign_joint_location = load_joint_location(input_file_path)\n",
    "            output_df = benign_joint_location[\"frame_id\"]\n",
    "            output_df = output_df.to_frame()            \n",
    "\n",
    "            #format 1 \n",
    "            for column in columns:\n",
    "                output_df[column] = get_vertex_joint_location(column, vertex_to_joints, benign_joint_location).apply(measure_angle, axis= 1)\n",
    "            output_filename = file.replace(\"keypoints\", \"angles\")\n",
    "            output_file_path = os.path.join(dirname, output_filename)\n",
    "            output_df.to_csv(output_file_path, index= False)\n",
    "\n",
    "            #format 2 \n",
    "            for column in columns:\n",
    "                output_df[column] = output_df[column] - output_df[column].shift(-1)\n",
    "            output_filename = file.replace(\"keypoints\", \"angle-changes\")\n",
    "            output_file_path = os.path.join(dirname, output_filename)\n",
    "            output_df.to_csv(output_file_path, index= False)\n",
    "\n",
    "        \n",
    "\n",
    "        #format 3 \n",
    "        if 'displacements-' in file:\n",
    "            #displacement distribution\n",
    "            input_file_path = os.path.join(dirname, file)\n",
    "            benign_joint_location = load_joint_location(input_file_path)\n",
    "\n",
    "            #remove extra columns\n",
    "            benign_joint_location.drop_prefix('p0_')\n",
    "            delete = []\n",
    "            removable = ['eye', 'nose', 'ear', 'ankle', 'wrist', 'average']\n",
    "            for col in benign_joint_location.columns:\n",
    "                if any(s in col for s in removable):\n",
    "                    delete.append(col)\n",
    "            benign_joint_location = benign_joint_location.drop(delete, axis= 1)\n",
    "            output_df = create_distribution(benign_joint_location)\n",
    "\n",
    "            output_filename = file.replace(\"displacements\", \"distribution\")\n",
    "            output_file_path = os.path.join(dirname, output_filename)\n",
    "            output_df.to_csv(output_file_path, index= False)\n",
    "\n",
    "            #average of displacements\n",
    "            average_df = benign_joint_location\n",
    "            average_df['average'] = average_df[average_df.columns[1:]].mean(axis = 1)\n",
    "            output_filename = file.replace(\"displacements\", \"average\")\n",
    "            output_file_path = os.path.join(dirname, output_filename)\n",
    "            average_df.to_csv(output_file_path, index = False)\n",
    "        \n",
    "        \n",
    "        #format 4\n",
    "        if 'angles' in file:\n",
    "            input_file_path = os.path.join(dirname, file)\n",
    "            benign_joint_location = pd.read_csv(input_file_path)\n",
    "            benign_joint_location = benign_joint_location.fillna(0)\n",
    "            output_df = create_distribution(benign_joint_location)\n",
    "\n",
    "            output_filename = file.replace(\"angles\", \"a-distribution\")\n",
    "            output_file_path = os.path.join(dirname, output_filename)\n",
    "            output_df.to_csv(output_file_path, index= False)\n",
    "\n",
    "\n",
    "        #format 5\n",
    "        if 'angle-changes' in file:\n",
    "            input_file_path = os.path.join(dirname, file)\n",
    "            benign_joint_location = pd.read_csv(input_file_path)\n",
    "            benign_joint_location = benign_joint_location.fillna(0)\n",
    "            output_df = create_distribution(benign_joint_location)\n",
    "\n",
    "            output_filename = file.replace(\"angle\", \"a-c-distribution\")\n",
    "            output_file_path = os.path.join(dirname, output_filename)\n",
    "            output_df.to_csv(output_file_path, index= False)\n",
    "\n",
    "\n",
    "#benign_joint_location = load_joint_location('/home/aiswarya/skeleton-vis/public/data/item-00051/keypoints-benign.csv')\n",
    "#adv_joint_location = load_joint_location('/home/aiswarya/skeleton-vis/public/data/item-00051/keypoints-attacked-eps_001.csv')"
   ]
  },
  {
   "cell_type": "code",
   "execution_count": 20,
   "metadata": {},
   "outputs": [],
   "source": [
    "\n",
    "\n"
   ]
  },
  {
   "cell_type": "markdown",
   "metadata": {},
   "source": [
    "## Get joint locations for a vertex"
   ]
  },
  {
   "cell_type": "code",
   "execution_count": 10,
   "metadata": {},
   "outputs": [],
   "source": [
    "#benign_vertex_joint_location = get_vertex_displacement('left_knee', vertex_to_joints, benign_joint_location)"
   ]
  },
  {
   "cell_type": "code",
   "execution_count": 11,
   "metadata": {},
   "outputs": [],
   "source": [
    "#benign_vertex_joint_location.head()"
   ]
  },
  {
   "cell_type": "markdown",
   "metadata": {},
   "source": [
    "## Measure angle of three points"
   ]
  },
  {
   "cell_type": "code",
   "execution_count": 12,
   "metadata": {},
   "outputs": [
    {
     "output_type": "execute_result",
     "data": {
      "text/plain": "90.0"
     },
     "metadata": {},
     "execution_count": 12
    }
   ],
   "source": [
    "measure_angle([6, 0, 0, 0, 0, 6])"
   ]
  },
  {
   "cell_type": "markdown",
   "metadata": {},
   "source": [
    "## Measure angle of all frames"
   ]
  },
  {
   "cell_type": "code",
   "execution_count": 13,
   "metadata": {},
   "outputs": [],
   "source": [
    "#left_knee_angles = benign_vertex_joint_location.apply(measure_angle, axis=1)\n",
    "#left_knee_angles"
   ]
  },
  {
   "cell_type": "code",
   "execution_count": 14,
   "metadata": {},
   "outputs": [],
   "source": [
    "\n",
    "#X = np.arange(0, len(left_knee_angles))\n",
    "#plt.plot(X, left_knee_angles)\n",
    "#plt.title('left_knee')\n",
    "#plt.xlabel('frame')\n",
    "#plt.ylabel('degree')\n",
    "#plt.show()"
   ]
  },
  {
   "cell_type": "markdown",
   "metadata": {},
   "source": [
    "## Show all results"
   ]
  },
  {
   "cell_type": "code",
   "execution_count": 15,
   "metadata": {},
   "outputs": [],
   "source": [
    "\n",
    "#for vertex in vertex_to_joints:\n",
    "#    \n",
    "#    benign_vertex_joint_location = get_vertex_joint_location(\n",
    "#        vertex, \n",
    "#        vertex_to_joints, \n",
    "#        benign_joint_location\n",
    "#    )\n",
    "#    \n",
    "#    adv_vertex_joint_location = get_vertex_joint_location(\n",
    "#        vertex, \n",
    "#        vertex_to_joints, \n",
    "#        adv_joint_location\n",
    "#    )\n",
    "#\n",
    "#    benign_angles = benign_vertex_joint_location.apply(measure_angle, axis=1)\n",
    "#    adv_angles = adv_vertex_joint_location.apply(measure_angle, axis=1)\n",
    "#    \n",
    "#    X = np.arange(0, len(benign_angles))\n",
    "#    \n",
    "#    plt.plot(X, benign_angles, label='benign')\n",
    "#    plt.plot(X, adv_angles, color='orange', label='attacked')\n",
    "#    plt.title(vertex)\n",
    "#    plt.xlabel('frame')\n",
    "#    plt.ylabel('degree')\n",
    "#    plt.legend()\n",
    "#    plt.show()"
   ]
  },
  {
   "cell_type": "code",
   "execution_count": null,
   "metadata": {},
   "outputs": [],
   "source": []
  }
 ],
 "metadata": {
  "kernelspec": {
   "display_name": "Python 3",
   "language": "python",
   "name": "python3"
  },
  "language_info": {
   "codemirror_mode": {
    "name": "ipython",
    "version": 3
   },
   "file_extension": ".py",
   "mimetype": "text/x-python",
   "name": "python",
   "nbconvert_exporter": "python",
   "pygments_lexer": "ipython3",
   "version": "3.8.5-final"
  }
 },
 "nbformat": 4,
 "nbformat_minor": 4
}